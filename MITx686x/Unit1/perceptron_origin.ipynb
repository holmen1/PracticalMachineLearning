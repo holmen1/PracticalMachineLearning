{
 "cells": [
  {
   "cell_type": "markdown",
   "metadata": {},
   "source": [
    "##Perceptron"
   ]
  },
  {
   "cell_type": "code",
   "execution_count": 1,
   "metadata": {},
   "outputs": [],
   "source": [
    "import numpy as np\n",
    "import matplotlib.pyplot as plt\n",
    "import time"
   ]
  },
  {
   "cell_type": "code",
   "execution_count": 56,
   "metadata": {},
   "outputs": [],
   "source": [
    "# given data\n",
    "#np.random.seed(1)\n",
    "#x = np.random.normal(loc=1, scale=1, size=(100,2)) - np.array([0.5, 0])\n",
    "#x[50:] = np.random.normal(loc=2, scale=1, size=(50,2)) + np.array([1.5,0])\n",
    "#y = np.ones(100) * -1\n",
    "#y[50:] *= -1\n",
    "\n",
    "# 1a\n",
    "#X = np.array([[-1, -1], [1, 0], [-1, 1.5]])\n",
    "#Y = np.array([[1], [-1], [1],])\n",
    "\n",
    "#X = np.array([[1, 0],[-1, -1], [-1, 1.5]])\n",
    "#Y = np.array([[-1], [1], [1],])\n",
    "\n",
    "# 1c\n",
    "#X = np.array([[-1, -1], [1, 0], [-1, 10]])\n",
    "#Y = np.array([[1], [-1], [1],])\n",
    "\n",
    "X = np.array([[1, 0],[-1, -1], [-1, 10]])\n",
    "Y = np.array([[-1], [1], [1],])"
   ]
  },
  {
   "cell_type": "code",
   "execution_count": null,
   "metadata": {},
   "outputs": [],
   "source": []
  },
  {
   "cell_type": "code",
   "execution_count": 35,
   "metadata": {},
   "outputs": [],
   "source": [
    "def perceptron_single_step_update(x, y, current_theta):\n",
    "    updated = False\n",
    "    if y * (np.dot(current_theta, x)) <= 0:\n",
    "        current_theta += y*x\n",
    "        updated = True\n",
    "        print('update')\n",
    "    return (current_theta, updated)"
   ]
  },
  {
   "cell_type": "code",
   "execution_count": 36,
   "metadata": {},
   "outputs": [],
   "source": [
    "def plotall(X, Y, theta, theta_0):\n",
    "    # Plotting Toy data\n",
    "    plt.figure()\n",
    "    for index, x in enumerate(X):\n",
    "        if Y[index] == -1:\n",
    "            plt.scatter(x[0], x[1], c = 'm', marker = 'o')\n",
    "        else:\n",
    "            plt.scatter(x[0], x[1], c = 'r', marker = 'x')\n",
    "    \n",
    "    x1, x2 = perceptron_line(theta, theta_0)\n",
    "    plt.plot(x1,x2)\n",
    "    plt.xlabel(\"x1\")\n",
    "    plt.ylabel(\"x2\")\n",
    "    plt.show()"
   ]
  },
  {
   "cell_type": "code",
   "execution_count": 44,
   "metadata": {},
   "outputs": [],
   "source": [
    "def perceptron(feature_matrix, labels, T, L):\n",
    "\n",
    "    # initializing theta\n",
    "    theta = np.zeros(feature_matrix.shape[1])\n",
    "    \n",
    "    update_counter = 0\n",
    "    \n",
    "    # updating perceptrons\n",
    "    for t in range(T):\n",
    "        for i in range(feature_matrix.shape[0]):\n",
    "            update_counter += 1\n",
    "            theta, updated = perceptron_single_step_update(feature_matrix[i],labels[i],theta)\n",
    "            if updated:\n",
    "                update_counter += 1\n",
    "                #print(theta)\n",
    "         \n",
    "        print(t)\n",
    "        print(theta)\n",
    "        #x1, x2 = perceptron_line(theta, theta_0, algorithm='perceptron')\n",
    "        plotall(feature_matrix, labels, theta, 0)\n",
    "        \n",
    "        # delaying\n",
    "        #time.sleep(1.5)\n",
    "        \n",
    "    return (theta, update_counter)"
   ]
  },
  {
   "cell_type": "code",
   "execution_count": 38,
   "metadata": {},
   "outputs": [],
   "source": [
    "\n",
    "def perceptron_line(theta, theta_0):\n",
    "    \"\"\"\n",
    "    Draw the classification boundary line\n",
    "    Arguments:\n",
    "        theta - The theta being used.\n",
    "        theta_0 - The theta_0 being used.\n",
    "        algorithm - Indicating which line to draw. \n",
    "\n",
    "    Returns: The data points of the boundary line\n",
    "    \"\"\"\n",
    "    # generate the data points of the boundary line\n",
    "    if  theta[1] != 0:\n",
    "        line_x1 = np.linspace(-5,10)\n",
    "        line_x2 = (-theta_0-(theta[0]*line_x1))/theta[1]\n",
    "    elif theta[0] != 0:\n",
    "        line_x2 = np.linspace(-5,10)\n",
    "        line_x1 = (-theta_0-(theta[1]*line_x2))/theta[0]\n",
    "    else:\n",
    "        line_x1 = np.array([0])\n",
    "        line_x2 = np.array([0])\n",
    "\n",
    "    return line_x1, line_x2"
   ]
  },
  {
   "cell_type": "code",
   "execution_count": 57,
   "metadata": {
    "scrolled": true
   },
   "outputs": [
    {
     "name": "stdout",
     "output_type": "stream",
     "text": [
      "update\n",
      "0\n",
      "[-1.  0.]\n"
     ]
    },
    {
     "data": {
      "image/png": "[encoded data removed]",
      "text/plain": [
       "<Figure size 432x288 with 1 Axes>"
      ]
     },
     "metadata": {
      "needs_background": "light"
     },
     "output_type": "display_data"
    },
    {
     "name": "stdout",
     "output_type": "stream",
     "text": [
      "1\n",
      "[-1.  0.]\n"
     ]
    },
    {
     "data": {
      "image/png": "[encoded data removed]",
      "text/plain": [
       "<Figure size 432x288 with 1 Axes>"
      ]
     },
     "metadata": {
      "needs_background": "light"
     },
     "output_type": "display_data"
    },
    {
     "name": "stdout",
     "output_type": "stream",
     "text": [
      "2\n",
      "[-1.  0.]\n"
     ]
    },
    {
     "data": {
      "image/png": "[encoded data removed]",
      "text/plain": [
       "<Figure size 432x288 with 1 Axes>"
      ]
     },
     "metadata": {
      "needs_background": "light"
     },
     "output_type": "display_data"
    },
    {
     "name": "stdout",
     "output_type": "stream",
     "text": [
      "3\n",
      "[-1.  0.]\n"
     ]
    },
    {
     "data": {
      "image/png": "[encoded data removed]",
      "text/plain": [
       "<Figure size 432x288 with 1 Axes>"
      ]
     },
     "metadata": {
      "needs_background": "light"
     },
     "output_type": "display_data"
    },
    {
     "name": "stdout",
     "output_type": "stream",
     "text": [
      "4\n",
      "[-1.  0.]\n"
     ]
    },
    {
     "data": {
      "image/png": "[encoded data removed]",
      "text/plain": [
       "<Figure size 432x288 with 1 Axes>"
      ]
     },
     "metadata": {
      "needs_background": "light"
     },
     "output_type": "display_data"
    },
    {
     "name": "stdout",
     "output_type": "stream",
     "text": [
      "5\n",
      "[-1.  0.]\n"
     ]
    },
    {
     "data": {
      "image/png": "[encoded data removed]",
      "text/plain": [
       "<Figure size 432x288 with 1 Axes>"
      ]
     },
     "metadata": {
      "needs_background": "light"
     },
     "output_type": "display_data"
    },
    {
     "name": "stdout",
     "output_type": "stream",
     "text": [
      "6\n",
      "[-1.  0.]\n"
     ]
    },
    {
     "data": {
      "image/png": "[encoded data removed]",
      "text/plain": [
       "<Figure size 432x288 with 1 Axes>"
      ]
     },
     "metadata": {
      "needs_background": "light"
     },
     "output_type": "display_data"
    },
    {
     "name": "stdout",
     "output_type": "stream",
     "text": [
      "7\n",
      "[-1.  0.]\n"
     ]
    },
    {
     "data": {
      "image/png": "[encoded data removed]",
      "text/plain": [
       "<Figure size 432x288 with 1 Axes>"
      ]
     },
     "metadata": {
      "needs_background": "light"
     },
     "output_type": "display_data"
    },
    {
     "name": "stdout",
     "output_type": "stream",
     "text": [
      "8\n",
      "[-1.  0.]\n"
     ]
    },
    {
     "data": {
      "image/png": "[encoded data removed]",
      "text/plain": [
       "<Figure size 432x288 with 1 Axes>"
      ]
     },
     "metadata": {
      "needs_background": "light"
     },
     "output_type": "display_data"
    },
    {
     "name": "stdout",
     "output_type": "stream",
     "text": [
      "9\n",
      "[-1.  0.]\n"
     ]
    },
    {
     "data": {
      "image/png": "[encoded data removed]",
      "text/plain": [
       "<Figure size 432x288 with 1 Axes>"
      ]
     },
     "metadata": {
      "needs_background": "light"
     },
     "output_type": "display_data"
    }
   ],
   "source": [
    "theta, counts = perceptron(X, Y, 10, 0.2)"
   ]
  },
  {
   "cell_type": "code",
   "execution_count": 47,
   "metadata": {},
   "outputs": [
    {
     "data": {
      "text/plain": [
       "31"
      ]
     },
     "execution_count": 47,
     "metadata": {},
     "output_type": "execute_result"
    }
   ],
   "source": [
    "counts"
   ]
  },
  {
   "cell_type": "code",
   "execution_count": 48,
   "metadata": {},
   "outputs": [
    {
     "ename": "NameError",
     "evalue": "name 'updated' is not defined",
     "output_type": "error",
     "traceback": [
      "\u001b[0;31m---------------------------------------------------------------------------\u001b[0m",
      "\u001b[0;31mNameError\u001b[0m                                 Traceback (most recent call last)",
      "\u001b[0;32m<ipython-input-48-dde8b69878f9>\u001b[0m in \u001b[0;36m<module>\u001b[0;34m\u001b[0m\n\u001b[0;32m----> 1\u001b[0;31m \u001b[0mupdated\u001b[0m\u001b[0;34m\u001b[0m\u001b[0;34m\u001b[0m\u001b[0m\n\u001b[0m",
      "\u001b[0;31mNameError\u001b[0m: name 'updated' is not defined"
     ]
    }
   ],
   "source": [
    "updated"
   ]
  },
  {
   "cell_type": "code",
   "execution_count": null,
   "metadata": {},
   "outputs": [],
   "source": []
  }
 ],
 "metadata": {
  "kernelspec": {
   "display_name": "Python 3",
   "language": "python",
   "name": "python3"
  },
  "language_info": {
   "codemirror_mode": {
    "name": "ipython",
    "version": 3
   },
   "file_extension": ".py",
   "mimetype": "text/x-python",
   "name": "python",
   "nbconvert_exporter": "python",
   "pygments_lexer": "ipython3",
   "version": "3.7.5"
  }
 },
 "nbformat": 4,
 "nbformat_minor": 4
}
