{
 "cells": [
  {
   "cell_type": "markdown",
   "metadata": {},
   "source": [
    "##Perceptron"
   ]
  },
  {
   "cell_type": "code",
   "execution_count": 1,
   "metadata": {},
   "outputs": [],
   "source": [
    "import numpy as np\n",
    "import matplotlib.pyplot as plt\n",
    "import time"
   ]
  },
  {
   "cell_type": "code",
   "execution_count": 36,
   "metadata": {},
   "outputs": [],
   "source": [
    "# given data\n",
    "#np.random.seed(1)\n",
    "#x = np.random.normal(loc=1, scale=1, size=(100,2)) - np.array([0.5, 0])\n",
    "#x[50:] = np.random.normal(loc=2, scale=1, size=(50,2)) + np.array([1.5,0])\n",
    "#y = np.ones(100) * -1\n",
    "#y[50:] *= -1\n",
    "\n",
    "# 1a\n",
    "#X = np.array([[-1, -1], [1, 0], [-1, 1.5]])\n",
    "#Y = np.array([[1], [-1], [1],])\n",
    "\n",
    "X = np.array([[1, 0],[-1, -1], [-1, 1.5]])\n",
    "Y = np.array([[-1], [1], [1],])"
   ]
  },
  {
   "cell_type": "code",
   "execution_count": null,
   "metadata": {},
   "outputs": [],
   "source": []
  },
  {
   "cell_type": "code",
   "execution_count": 37,
   "metadata": {},
   "outputs": [],
   "source": [
    "def perceptron_single_step_update(x, y, current_theta, current_theta_0):\n",
    "    print(\"-\")\n",
    "    #print(np.dot(current_theta, x) + current_theta_0)\n",
    "    print(\"-\")\n",
    "    if y * (np.dot(current_theta, x) + current_theta_0) <= 0:\n",
    "        current_theta += y*x\n",
    "        current_theta_0 += y\n",
    "        print('update')\n",
    "    return (current_theta, current_theta_0)"
   ]
  },
  {
   "cell_type": "code",
   "execution_count": 38,
   "metadata": {},
   "outputs": [],
   "source": [
    "def plotall(X, Y, theta, theta_0):\n",
    "    # Plotting Toy data\n",
    "    plt.figure()\n",
    "    for index, x in enumerate(X):\n",
    "        if Y[index] == -1:\n",
    "            plt.scatter(x[0], x[1], c = 'm', marker = 'o')\n",
    "        else:\n",
    "            plt.scatter(x[0], x[1], c = 'r', marker = 'x')\n",
    "    \n",
    "    x1, x2 = perceptron_line(theta, theta_0)\n",
    "    plt.plot(x1,x2)\n",
    "    plt.xlabel(\"x1\")\n",
    "    plt.ylabel(\"x2\")\n",
    "    plt.show()"
   ]
  },
  {
   "cell_type": "code",
   "execution_count": 39,
   "metadata": {},
   "outputs": [],
   "source": [
    "def perceptron(feature_matrix, labels, T, L):\n",
    "\n",
    "    # initializing theta and theta_0 for the different perceptron algorithms\n",
    "    theta = np.zeros(feature_matrix.shape[1])\n",
    "    theta_0 = np.zeros(1)\n",
    "    \n",
    "    sum_theta = np.zeros(feature_matrix.shape[1])\n",
    "    sum_theta_0 = np.zeros(1)\n",
    "    \n",
    "    update_counter = 0\n",
    "    \n",
    "    # updating perceptrons\n",
    "    for t in range(T):\n",
    "        for i in range(feature_matrix.shape[0]):\n",
    "            update_counter += 1\n",
    "            theta, theta_0 = perceptron_single_step_update(feature_matrix[i],labels[i],theta,theta_0)\n",
    "            sum_theta += theta\n",
    "            sum_theta_0 += theta_0\n",
    "            print(theta)\n",
    "            print(theta_0)\n",
    "         \n",
    "        print(t)\n",
    "        print(theta)\n",
    "        print(theta_0)\n",
    "        #x1, x2 = perceptron_line(theta, theta_0, algorithm='perceptron')\n",
    "        plotall(feature_matrix, labels, theta, theta_0)\n",
    "        \n",
    "        # delaying\n",
    "        time.sleep(1.5)\n",
    "        \n",
    "    return (theta, theta_0)"
   ]
  },
  {
   "cell_type": "code",
   "execution_count": 40,
   "metadata": {},
   "outputs": [],
   "source": [
    "\n",
    "def perceptron_line(theta, theta_0):\n",
    "    \"\"\"\n",
    "    Draw the classification boundary line\n",
    "    Arguments:\n",
    "        theta - The theta being used.\n",
    "        theta_0 - The theta_0 being used.\n",
    "        algorithm - Indicating which line to draw. \n",
    "\n",
    "    Returns: The data points of the boundary line\n",
    "    \"\"\"\n",
    "    # generate the data points of the boundary line\n",
    "    if  theta[1] != 0:\n",
    "        line_x1 = np.linspace(-5,10)\n",
    "        line_x2 = (-theta_0-(theta[0]*line_x1))/theta[1]\n",
    "    elif theta[0] != 0:\n",
    "        line_x2 = np.linspace(-5,10)\n",
    "        line_x1 = (-theta_0-(theta[1]*line_x2))/theta[0]\n",
    "    else:\n",
    "        line_x1 = np.array([0])\n",
    "        line_x2 = np.array([0])\n",
    "\n",
    "    return line_x1, line_x2"
   ]
  },
  {
   "cell_type": "code",
   "execution_count": 41,
   "metadata": {},
   "outputs": [
    {
     "name": "stdout",
     "output_type": "stream",
     "text": [
      "-\n",
      "-\n",
      "update\n",
      "[-1.  0.]\n",
      "[-1.]\n",
      "-\n",
      "-\n",
      "update\n",
      "[-2. -1.]\n",
      "[0.]\n",
      "-\n",
      "-\n",
      "[-2. -1.]\n",
      "[0.]\n",
      "0\n",
      "[-2. -1.]\n",
      "[0.]\n"
     ]
    },
    {
     "data": {
      "image/png": "[encoded data removed]",
      "text/plain": [
       "<Figure size 432x288 with 1 Axes>"
      ]
     },
     "metadata": {
      "needs_background": "light"
     },
     "output_type": "display_data"
    },
    {
     "name": "stdout",
     "output_type": "stream",
     "text": [
      "-\n",
      "-\n",
      "[-2. -1.]\n",
      "[0.]\n",
      "-\n",
      "-\n",
      "[-2. -1.]\n",
      "[0.]\n",
      "-\n",
      "-\n",
      "[-2. -1.]\n",
      "[0.]\n",
      "1\n",
      "[-2. -1.]\n",
      "[0.]\n"
     ]
    },
    {
     "data": {
      "image/png": "[encoded data removed]",
      "text/plain": [
       "<Figure size 432x288 with 1 Axes>"
      ]
     },
     "metadata": {
      "needs_background": "light"
     },
     "output_type": "display_data"
    },
    {
     "name": "stdout",
     "output_type": "stream",
     "text": [
      "-\n",
      "-\n",
      "[-2. -1.]\n",
      "[0.]\n",
      "-\n",
      "-\n",
      "[-2. -1.]\n",
      "[0.]\n",
      "-\n",
      "-\n",
      "[-2. -1.]\n",
      "[0.]\n",
      "2\n",
      "[-2. -1.]\n",
      "[0.]\n"
     ]
    },
    {
     "data": {
      "image/png": "[encoded data removed]",
      "text/plain": [
       "<Figure size 432x288 with 1 Axes>"
      ]
     },
     "metadata": {
      "needs_background": "light"
     },
     "output_type": "display_data"
    }
   ],
   "source": [
    "theta, theta_0 = perceptron(X, Y, 3, 0.2)"
   ]
  },
  {
   "cell_type": "code",
   "execution_count": null,
   "metadata": {},
   "outputs": [],
   "source": []
  }
 ],
 "metadata": {
  "kernelspec": {
   "display_name": "Python 3",
   "language": "python",
   "name": "python3"
  },
  "language_info": {
   "codemirror_mode": {
    "name": "ipython",
    "version": 3
   },
   "file_extension": ".py",
   "mimetype": "text/x-python",
   "name": "python",
   "nbconvert_exporter": "python",
   "pygments_lexer": "ipython3",
   "version": "3.7.5"
  }
 },
 "nbformat": 4,
 "nbformat_minor": 4
}
