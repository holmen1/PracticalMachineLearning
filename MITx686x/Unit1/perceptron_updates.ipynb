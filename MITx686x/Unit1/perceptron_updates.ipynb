{
 "cells": [
  {
   "cell_type": "markdown",
   "metadata": {},
   "source": [
    "##Perceptron"
   ]
  },
  {
   "cell_type": "code",
   "execution_count": 74,
   "metadata": {},
   "outputs": [],
   "source": [
    "import numpy as np\n",
    "import matplotlib.pyplot as plt\n",
    "import time\n",
    "from math import cos, pi"
   ]
  },
  {
   "cell_type": "code",
   "execution_count": 108,
   "metadata": {},
   "outputs": [],
   "source": [
    "# given data\n",
    "#np.random.seed(1)\n",
    "\n",
    "d = 3\n",
    "n = d\n",
    "X = np.zeros((n,d))\n",
    "Y = np.ones(n)"
   ]
  },
  {
   "cell_type": "code",
   "execution_count": 109,
   "metadata": {},
   "outputs": [],
   "source": [
    "for row in range(n):\n",
    "    for col in range(d):\n",
    "        if row == col:\n",
    "            X[row,col]=cos((col+1)*pi)"
   ]
  },
  {
   "cell_type": "code",
   "execution_count": 110,
   "metadata": {},
   "outputs": [],
   "source": [
    "def perceptron_single_step_update(x, y, current_theta):\n",
    "    if y * (np.dot(current_theta, x)) <= 0:\n",
    "        current_theta += y*x\n",
    "        print('update')\n",
    "    return current_theta"
   ]
  },
  {
   "cell_type": "code",
   "execution_count": 111,
   "metadata": {},
   "outputs": [],
   "source": [
    "def plotall(X, Y, theta, theta_0):\n",
    "    # Plotting Toy data\n",
    "    plt.figure()\n",
    "    for index, x in enumerate(X):\n",
    "        if Y[index] == -1:\n",
    "            plt.scatter(x[0], x[1], c = 'm', marker = 'o')\n",
    "        else:\n",
    "            plt.scatter(x[0], x[1], c = 'r', marker = 'x')\n",
    "    \n",
    "    x1, x2 = perceptron_line(theta, theta_0)\n",
    "    plt.plot(x1,x2)\n",
    "    plt.xlabel(\"x1\")\n",
    "    plt.ylabel(\"x2\")\n",
    "    plt.show()"
   ]
  },
  {
   "cell_type": "code",
   "execution_count": 112,
   "metadata": {},
   "outputs": [],
   "source": [
    "def perceptron(feature_matrix, labels, T, L):\n",
    "\n",
    "    # initializing theta\n",
    "    theta = np.zeros(feature_matrix.shape[1])\n",
    "    \n",
    "    # updating perceptrons\n",
    "    for t in range(T):\n",
    "        for i in range(feature_matrix.shape[0]):\n",
    "            theta = perceptron_single_step_update(feature_matrix[i],labels[i],theta)\n",
    "            print(theta)\n",
    "         \n",
    "        print(t)\n",
    "        print(theta)\n",
    "        #x1, x2 = perceptron_line(theta, theta_0, algorithm='perceptron')\n",
    "        plotall(feature_matrix, labels, theta, 0)\n",
    "        \n",
    "        # delaying\n",
    "        #time.sleep(1.5)\n",
    "        \n",
    "    return theta"
   ]
  },
  {
   "cell_type": "code",
   "execution_count": 113,
   "metadata": {},
   "outputs": [],
   "source": [
    "\n",
    "def perceptron_line(theta, theta_0):\n",
    "    \"\"\"\n",
    "    Draw the classification boundary line\n",
    "    Arguments:\n",
    "        theta - The theta being used.\n",
    "        theta_0 - The theta_0 being used.\n",
    "        algorithm - Indicating which line to draw. \n",
    "\n",
    "    Returns: The data points of the boundary line\n",
    "    \"\"\"\n",
    "    # generate the data points of the boundary line\n",
    "    if  theta[1] != 0:\n",
    "        line_x1 = np.linspace(-5,10)\n",
    "        line_x2 = (-theta_0-(theta[0]*line_x1))/theta[1]\n",
    "    elif theta[0] != 0:\n",
    "        line_x2 = np.linspace(-5,10)\n",
    "        line_x1 = (-theta_0-(theta[1]*line_x2))/theta[0]\n",
    "    else:\n",
    "        line_x1 = np.array([0])\n",
    "        line_x2 = np.array([0])\n",
    "\n",
    "    return line_x1, line_x2"
   ]
  },
  {
   "cell_type": "code",
   "execution_count": null,
   "metadata": {},
   "outputs": [],
   "source": []
  },
  {
   "cell_type": "markdown",
   "metadata": {},
   "source": [
    "theta, counts = perceptron(X, Y, 10, 0.2)"
   ]
  },
  {
   "cell_type": "code",
   "execution_count": 100,
   "metadata": {},
   "outputs": [
    {
     "data": {
      "text/plain": [
       "1.0"
      ]
     },
     "execution_count": 100,
     "metadata": {},
     "output_type": "execute_result"
    }
   ],
   "source": [
    "counts"
   ]
  },
  {
   "cell_type": "code",
   "execution_count": 101,
   "metadata": {},
   "outputs": [
    {
     "ename": "NameError",
     "evalue": "name 'updated' is not defined",
     "output_type": "error",
     "traceback": [
      "\u001b[0;31m---------------------------------------------------------------------------\u001b[0m",
      "\u001b[0;31mNameError\u001b[0m                                 Traceback (most recent call last)",
      "\u001b[0;32m<ipython-input-101-dde8b69878f9>\u001b[0m in \u001b[0;36m<module>\u001b[0;34m\u001b[0m\n\u001b[0;32m----> 1\u001b[0;31m \u001b[0mupdated\u001b[0m\u001b[0;34m\u001b[0m\u001b[0;34m\u001b[0m\u001b[0m\n\u001b[0m",
      "\u001b[0;31mNameError\u001b[0m: name 'updated' is not defined"
     ]
    }
   ],
   "source": [
    "updated"
   ]
  },
  {
   "cell_type": "code",
   "execution_count": 65,
   "metadata": {},
   "outputs": [],
   "source": [
    "d = 10"
   ]
  },
  {
   "cell_type": "code",
   "execution_count": 66,
   "metadata": {},
   "outputs": [],
   "source": [
    "t = range(1,d+1)"
   ]
  },
  {
   "cell_type": "code",
   "execution_count": 72,
   "metadata": {},
   "outputs": [
    {
     "data": {
      "text/plain": [
       "[-1.0, 1.0, -1.0, 1.0, -1.0, 1.0, -1.0, 1.0, -1.0, 1.0]"
      ]
     },
     "execution_count": 72,
     "metadata": {},
     "output_type": "execute_result"
    }
   ],
   "source": [
    "[cos(i*pi) if i else 0 for i in t]"
   ]
  },
  {
   "cell_type": "code",
   "execution_count": null,
   "metadata": {},
   "outputs": [],
   "source": []
  }
 ],
 "metadata": {
  "kernelspec": {
   "display_name": "Python 3",
   "language": "python",
   "name": "python3"
  },
  "language_info": {
   "codemirror_mode": {
    "name": "ipython",
    "version": 3
   },
   "file_extension": ".py",
   "mimetype": "text/x-python",
   "name": "python",
   "nbconvert_exporter": "python",
   "pygments_lexer": "ipython3",
   "version": "3.7.5"
  }
 },
 "nbformat": 4,
 "nbformat_minor": 4
}
