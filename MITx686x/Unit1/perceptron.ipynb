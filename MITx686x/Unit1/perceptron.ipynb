{
 "cells": [
  {
   "cell_type": "markdown",
   "metadata": {},
   "source": [
    "##Perceptron"
   ]
  },
  {
   "cell_type": "code",
   "execution_count": 8,
   "metadata": {},
   "outputs": [],
   "source": [
    "import numpy as np\n",
    "import matplotlib.pyplot as plt\n",
    "import time"
   ]
  },
  {
   "cell_type": "code",
   "execution_count": 2,
   "metadata": {},
   "outputs": [],
   "source": [
    "# given data\n",
    "np.random.seed(1)\n",
    "\n",
    "x = np.random.normal(loc=1, scale=1, size=(100,2)) - np.array([0.5, 0])\n",
    "x[50:] = np.random.normal(loc=2, scale=1, size=(50,2)) + np.array([1.5,0])\n",
    "\n",
    "y = np.ones(100) * -1\n",
    "y[50:] *= -1"
   ]
  },
  {
   "cell_type": "code",
   "execution_count": 3,
   "metadata": {},
   "outputs": [],
   "source": [
    "def perceptron_single_step_update(x, y, current_theta, current_theta_0):\n",
    "    if y * (np.dot(current_theta, x) + current_theta_0) <= 0:\n",
    "        current_theta += y*x\n",
    "        current_theta_0 += y\n",
    "    return (current_theta, current_theta_0)"
   ]
  },
  {
   "cell_type": "code",
   "execution_count": 10,
   "metadata": {},
   "outputs": [],
   "source": [
    "def perceptron(feature_matrix, labels, T, L):\n",
    "\n",
    "    # initializing theta and theta_0 for the different perceptron algorithms\n",
    "    theta = np.ones(feature_matrix.shape[1])\n",
    "    theta_0 = np.zeros(1)\n",
    "    \n",
    "    sum_theta = np.zeros(feature_matrix.shape[1])\n",
    "    sum_theta_0 = np.zeros(1)\n",
    "    \n",
    "    update_counter = 0\n",
    "    \n",
    "    # updating perceptrons\n",
    "    for t in range(T):\n",
    "        for i in range(feature_matrix.shape[0]):\n",
    "            update_counter += 1\n",
    "            theta, theta_0 = perceptron_single_step_update(feature_matrix[i],labels[i],theta,theta_0)\n",
    "            sum_theta += theta\n",
    "            sum_theta_0 += theta_0\n",
    "            \n",
    "        # draw the classification boundary line per epoch\n",
    "        draw_perceptron_line(theta, theta_0,'perceptron')\n",
    "                        \n",
    "        # updating the epoch on the plot\n",
    "        text.set_text(f'$epoch:{t+1}$')  \n",
    "        \n",
    "        # updating the figure per epoch\n",
    "        fig.canvas.draw()\n",
    "        fig.canvas.flush_events()\n",
    "        \n",
    "        # delaying\n",
    "        time.sleep(0.1)\n",
    "        \n",
    "    return (theta, theta_0)"
   ]
  },
  {
   "cell_type": "code",
   "execution_count": 5,
   "metadata": {},
   "outputs": [],
   "source": [
    "\n",
    "def draw_perceptron_line(theta, theta_0, algorithm='perceptron'):\n",
    "    \"\"\"\n",
    "    Draw the classification boundary line\n",
    "    Arguments:\n",
    "        theta - The theta being used.\n",
    "        theta_0 - The theta_0 being used.\n",
    "        algorithm - Indicating which line to draw. \n",
    "\n",
    "    Returns: The data points of the boundary line\n",
    "    \"\"\"\n",
    "    # generate the data points of the boundary line\n",
    "    if  theta[1] != 0:\n",
    "        line_x1 = np.linspace(-5,10,2)\n",
    "        line_x2 = (-theta_0-(theta[0]*line_x1))/theta[1]\n",
    "    elif theta[0] != 0:\n",
    "        line_x2 = np.linspace(-5,10,2)\n",
    "        line_x1 = (-theta_0-(theta[1]*line_x2))/theta[0]\n",
    "    else:\n",
    "        line_x1 = np.array([0])\n",
    "        line_x2 = np.array([0])\n",
    "    \n",
    "    # updating the boundary line\n",
    "    if algorithm == 'perceptron':\n",
    "        perceptron_line.set_xdata(line_x1)\n",
    "        perceptron_line.set_ydata(line_x2)\n",
    "    elif algorithm == 'average_perceptron':\n",
    "        average_perceptron_line.set_xdata(line_x1)\n",
    "        average_perceptron_line.set_ydata(line_x2)\n",
    "    elif algorithm == 'pegasos':\n",
    "        pegasos_line.set_xdata(line_x1)\n",
    "        pegasos_line.set_ydata(line_x2)\n",
    "        \n",
    "    return line_x1, line_x2"
   ]
  },
  {
   "cell_type": "code",
   "execution_count": 6,
   "metadata": {},
   "outputs": [],
   "source": [
    "# pop-out window\n",
    "%matplotlib tk\n",
    "\n",
    "# create matplotlib figure and axes\n",
    "plt.style.use('seaborn-whitegrid')\n",
    "fig, ax = plt.subplots(1, figsize=(7, 7))\n",
    "\n",
    "# scatter plotting the given data\n",
    "plt.plot(x[:int(x.shape[0]/2),0],x[:int(x.shape[0]/2),1], color='#97cbff', lw=0, marker='o', markersize=12)\n",
    "plt.plot(x[int(x.shape[0]/2):,0],x[int(x.shape[0]/2):,1], color='#ffc1e0', lw=0, marker='o', markersize=12)\n",
    "\n",
    "# draw classification boundary line\n",
    "# perceptron\n",
    "perceptron_line_x1 = np.array([0])\n",
    "perceptron_line_x2 = np.array([0])\n",
    "perceptron_line, = ax.plot(perceptron_line_x1, \n",
    "                           perceptron_line_x2, \n",
    "                           color='#ff0080', \n",
    "                           lw=6, \n",
    "                           zorder= 4, \n",
    "                           label='$perceptron$')\n",
    "\n",
    "# display epoches on the plot\n",
    "text = plt.text(4, 5, '$epoch:1$', fontsize=15)\n",
    "\n",
    "# basic formatting for the axes\n",
    "plt.grid(True, linewidth=0.3)\n",
    "plt.legend(loc='lower left', prop={'size': 15})\n",
    "plt.setp(ax.get_xticklabels(), visible=False)\n",
    "plt.setp(ax.get_yticklabels(), visible=False)\n",
    "\n",
    "ax.set_ylim(-3.5, 6.5)\n",
    "ax.set_xlim(-3, 7)\n",
    "\n",
    "ax.set_xlabel('$x_{1}$', fontsize=20)\n",
    "ax.set_ylabel('$x_{2}$', fontsize=20) \n",
    "\n",
    "ax.set_title('$Classification \\ by \\ Perceptron \\ Algorithm$', fontsize=20)\n",
    "\n",
    "# draw the figure\n",
    "fig.canvas.draw()\n",
    "fig.canvas.flush_events()   \n",
    "plt.show()"
   ]
  },
  {
   "cell_type": "code",
   "execution_count": 11,
   "metadata": {},
   "outputs": [],
   "source": [
    "def main():\n",
    "    perceptron(x, y, 100, 0.2)\n",
    "\n",
    "if __name__ == '__main__':\n",
    "    main()"
   ]
  },
  {
   "cell_type": "code",
   "execution_count": null,
   "metadata": {},
   "outputs": [],
   "source": []
  },
  {
   "cell_type": "code",
   "execution_count": null,
   "metadata": {},
   "outputs": [],
   "source": []
  }
 ],
 "metadata": {
  "kernelspec": {
   "display_name": "Python 3",
   "language": "python",
   "name": "python3"
  },
  "language_info": {
   "codemirror_mode": {
    "name": "ipython",
    "version": 3
   },
   "file_extension": ".py",
   "mimetype": "text/x-python",
   "name": "python",
   "nbconvert_exporter": "python",
   "pygments_lexer": "ipython3",
   "version": "3.7.4"
  }
 },
 "nbformat": 4,
 "nbformat_minor": 4
}
