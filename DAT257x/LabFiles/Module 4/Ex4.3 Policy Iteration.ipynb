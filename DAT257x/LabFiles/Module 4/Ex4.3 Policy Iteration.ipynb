{
  "cells": [
    {
      "metadata": {},
      "cell_type": "markdown",
      "source": "# DAT257x: Reinforcement Learning Explained\n\n## Lab 4: Dynamic Programming\n\n### Exercise 4.3 Policy Iteration"
    },
    {
      "metadata": {},
      "cell_type": "markdown",
      "source": "Policy Iteration calculates the optimal policy for an MDP, given its full definition.  The full definition of an MDP is the set of states, the set of available actions for each state, the set of rewards, the discount factor, and the state/reward transition function."
    },
    {
      "metadata": {
        "trusted": true
      },
      "cell_type": "code",
      "source": "import test_dp               # required for testing and grading your code\nimport gridworld_mdp as gw   # defines the MDP for a 4x4 gridworld",
      "execution_count": 1,
      "outputs": []
    },
    {
      "metadata": {},
      "cell_type": "markdown",
      "source": "**Implement the algorithm for Policy Iteration**.  Policy Iteration calculates the optimal policy for an MDP by doing repeated steps of policy evaluation and policy improvement.\n\nA empty function **policy_iteration** is provided below; implement the body of the function to correctly calculate the optimal policy for an MDP.  The function defines 5 parameters - a definition of each parameter is given in the comment block for the function.  For sample parameter values, see the calling code in the cell following the function.\n\nNote that there is a subtle difference between the algorithm for Policy Evaluation, which assumes the policy is stochastic, and the Policy Evaluation step for the Policy Iteration algorithm, which assumes the policy is deterministic.  This means that you cannot directly call your previous code, but you can reuse large pieces of it for the Policy Evaluation step."
    },
    {
      "metadata": {
        "trusted": true
      },
      "cell_type": "code",
      "source": "def policy_iteration(state_count, gamma, theta, get_available_actions, get_transitions):\n    \"\"\"\n    This function computes the optimal value function and policy for the specified MDP, using the Policy Iteration algorithm.\n    'state_count' is the total number of states in the MDP. States are represented as 0-relative numbers.\n    \n    'gamma' is the MDP discount factor for rewards.\n    \n    'theta' is the small number threshold to signal convergence of the value function (see Iterative Policy Evaluation algorithm).\n    \n    'get_available_actions' returns a list of the MDP available actions for the specified state parameter.\n    \n    'get_transitions' is the MDP state / reward transiton function.  It accepts two parameters, state and action, and returns\n        a list of tuples, where each tuple is of the form: (next_state, reward, probabiliity).  \n    \"\"\"\n    V = state_count*[0]                # init all state value estimates to 0\n    pi = state_count*[0]\n    \n    # init with a policy with first avail action for each state\n    for s in range(state_count):\n        avail_actions = get_available_actions(s)\n        pi[s] = avail_actions[0]\n        \n    # insert code here to iterate using policy evaluation and policy improvement (see Policy Iteration algorithm)\n \n    while True:\n        # Policy Evaluation\n        while True:\n            delta = 0\n            V2 = state_count*[0]\n            for s in range(state_count):\n                v = V[s]\n                tmp_value = 0\n                transitions = get_transitions(state=s, action=pi[s])\n                for transition in transitions:\n                    next_state, reward, probability = transition\n                    tmp_value += probability*(reward + gamma*V[next_state])\n                V[s] = tmp_value\n                delta = max(delta, abs(v - V[s]))\n            if  delta < theta:\n                break\n        \n        # Policy improvement\n        print(\"Policy=\", pi)\n        stable = True\n        for s in range(state_count):\n            old_action = pi[s]\n            q = []\n            for action in get_available_actions(s):\n                tmp_value = 0\n                transitions = get_transitions(state=s, action=action)\n                for transition in transitions:\n                    next_state, reward, probability = transition\n                    tmp_value += probability*(reward + gamma*V[next_state])\n                q.append(tmp_value)\n            a = np.argmax(q)\n            pi[s] = get_available_actions(s)[a]\n            if old_action != pi[s]:\n                stable = False\n        if stable:\n            break\n    \n    return (V, pi)        # return both the final value function and the final policy",
      "execution_count": 13,
      "outputs": []
    },
    {
      "metadata": {},
      "cell_type": "markdown",
      "source": "First, test our function using the MDP defined by gw.* functions."
    },
    {
      "metadata": {
        "trusted": true
      },
      "cell_type": "code",
      "source": "n_states = gw.get_state_count()\n\n# test our function\nvalues, policy = policy_iteration(state_count=n_states, gamma=.9, theta=.001, get_available_actions=gw.get_available_actions, \\\n    get_transitions=gw.get_transitions)\n\nprint(\"Values=\", values)\nprint(\"Policy=\", policy)",
      "execution_count": 14,
      "outputs": [
        {
          "output_type": "stream",
          "text": "Policy= ['up', 'up', 'up', 'up', 'up', 'up', 'up', 'up', 'up', 'up', 'up', 'up', 'up', 'up', 'up']\nPolicy= ['up', 'left', 'up', 'up', 'up', 'left', 'up', 'up', 'up', 'left', 'up', 'down', 'up', 'left', 'right']\nPolicy= ['up', 'left', 'left', 'up', 'up', 'up', 'left', 'down', 'up', 'up', 'down', 'down', 'up', 'right', 'right']\nPolicy= ['up', 'left', 'left', 'down', 'up', 'up', 'up', 'down', 'up', 'up', 'down', 'down', 'up', 'right', 'right']\nValues= [0.0, -1.0, -1.9, -2.71, -1.0, -1.9, -2.71, -1.9, -1.9, -2.71, -1.9, -1.0, -2.71, -1.9, -1.0]\nPolicy= ['up', 'left', 'left', 'down', 'up', 'up', 'up', 'down', 'up', 'up', 'down', 'down', 'up', 'right', 'right']\n",
          "name": "stdout"
        }
      ]
    },
    {
      "metadata": {},
      "cell_type": "markdown",
      "source": "**Expected output from running above cell:**\n\n`\nValues= [0.0, -1.0, -1.9, -2.71, -1.0, -1.9, -2.71, -1.9, -1.9, -2.71, -1.9, -1.0, -2.71, -1.9, -1.0]\nPolicy= ['up', 'left', 'left', 'down', 'up', 'up', 'up', 'down', 'up', 'up', 'down', 'down', 'up', 'right', 'right']\n`"
    },
    {
      "metadata": {
        "trusted": true
      },
      "cell_type": "code",
      "source": "import numpy as np\na = np.append(values, 0)\nnp.reshape(a, (4,4))",
      "execution_count": 15,
      "outputs": [
        {
          "output_type": "execute_result",
          "execution_count": 15,
          "data": {
            "text/plain": "array([[ 0.  , -1.  , -1.9 , -2.71],\n       [-1.  , -1.9 , -2.71, -1.9 ],\n       [-1.9 , -2.71, -1.9 , -1.  ],\n       [-2.71, -1.9 , -1.  ,  0.  ]])"
          },
          "metadata": {}
        }
      ]
    },
    {
      "metadata": {
        "collapsed": true
      },
      "cell_type": "markdown",
      "source": "Now, test our function using the test_dp helper.  The helper also uses the gw MDP, but with a different gamma value.\nIf our function passes all tests, a passcode will be printed."
    },
    {
      "metadata": {
        "trusted": true
      },
      "cell_type": "code",
      "source": "a = np.append(policy, policy[0])\nnp.reshape(a, (4,4))",
      "execution_count": 16,
      "outputs": [
        {
          "output_type": "execute_result",
          "execution_count": 16,
          "data": {
            "text/plain": "array([['up', 'left', 'left', 'down'],\n       ['up', 'up', 'up', 'down'],\n       ['up', 'up', 'down', 'down'],\n       ['up', 'right', 'right', 'up']], dtype='<U5')"
          },
          "metadata": {}
        }
      ]
    },
    {
      "metadata": {
        "trusted": true
      },
      "cell_type": "code",
      "source": "# test our function using the test_db helper\ntest_dp.policy_iteration_test( policy_iteration ) ",
      "execution_count": 17,
      "outputs": [
        {
          "output_type": "stream",
          "text": "\nTesting: Policy Iteration\nPolicy= ['up', 'up', 'up', 'up', 'up', 'up', 'up', 'up', 'up', 'up', 'up', 'up', 'up', 'up', 'up']\nPolicy= ['up', 'left', 'up', 'up', 'up', 'left', 'up', 'up', 'up', 'left', 'up', 'down', 'up', 'left', 'right']\nPolicy= ['up', 'left', 'left', 'up', 'up', 'up', 'left', 'down', 'up', 'up', 'down', 'down', 'up', 'right', 'right']\nPolicy= ['up', 'left', 'left', 'down', 'up', 'up', 'up', 'down', 'up', 'up', 'down', 'down', 'up', 'right', 'right']\npassed test: return value is tuple\npassed test: length of tuple = 2\npassed test: v is list of length=15\npassed test: values of v elements\npassed test: pi is list of length=15\npassed test: values of pi elements\nPASSED: Policy Iteration passcode = 9970-010\n",
          "name": "stdout"
        }
      ]
    },
    {
      "metadata": {
        "trusted": true
      },
      "cell_type": "code",
      "source": "a=[1,2,3,2]",
      "execution_count": 2,
      "outputs": []
    },
    {
      "metadata": {
        "trusted": true
      },
      "cell_type": "code",
      "source": "import numpy as np\nnp.argmax(a)",
      "execution_count": 5,
      "outputs": [
        {
          "output_type": "error",
          "ename": "NameError",
          "evalue": "name 'a' is not defined",
          "traceback": [
            "\u001b[0;31m---------------------------------------------------------------------------\u001b[0m",
            "\u001b[0;31mNameError\u001b[0m                                 Traceback (most recent call last)",
            "\u001b[0;32m<ipython-input-5-0958827647d2>\u001b[0m in \u001b[0;36m<module>\u001b[0;34m()\u001b[0m\n\u001b[1;32m      1\u001b[0m \u001b[0;32mimport\u001b[0m \u001b[0mnumpy\u001b[0m \u001b[0;32mas\u001b[0m \u001b[0mnp\u001b[0m\u001b[0;34m\u001b[0m\u001b[0m\n\u001b[0;32m----> 2\u001b[0;31m \u001b[0mnp\u001b[0m\u001b[0;34m.\u001b[0m\u001b[0margmax\u001b[0m\u001b[0;34m(\u001b[0m\u001b[0ma\u001b[0m\u001b[0;34m)\u001b[0m\u001b[0;34m\u001b[0m\u001b[0m\n\u001b[0m",
            "\u001b[0;31mNameError\u001b[0m: name 'a' is not defined"
          ]
        }
      ]
    },
    {
      "metadata": {
        "trusted": true
      },
      "cell_type": "code",
      "source": "",
      "execution_count": null,
      "outputs": []
    }
  ],
  "metadata": {
    "kernelspec": {
      "name": "python3",
      "display_name": "Python 3",
      "language": "python"
    },
    "language_info": {
      "mimetype": "text/x-python",
      "nbconvert_exporter": "python",
      "name": "python",
      "pygments_lexer": "ipython3",
      "version": "3.5.4",
      "file_extension": ".py",
      "codemirror_mode": {
        "version": 3,
        "name": "ipython"
      }
    }
  },
  "nbformat": 4,
  "nbformat_minor": 2
}